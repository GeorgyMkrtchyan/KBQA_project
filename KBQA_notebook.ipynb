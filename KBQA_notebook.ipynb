{
 "cells": [
  {
   "cell_type": "markdown",
   "metadata": {
    "id": "Vorpk9MmdXgE"
   },
   "source": [
    "# Knowledge based question answering (KBQA)\n"
   ]
  },
  {
   "cell_type": "markdown",
   "metadata": {
    "id": "KR8Ej1VXdinC"
   },
   "source": [
    "## Introduction\n",
    "```\n",
    "Question answering (QA) is a computer science discipline within the fields of information retrieval and natural language processing (NLP), which is concerned with building systems that automatically answer questions posed by humans in a natural language. \n",
    "A system for knowledge base question answering was implemented and evaluated its quality for Russian and English languages.\n",
    "\n",
    "Datasets\n",
    "\n",
    "1) Simple Questions dataset consists of 108,442 natural language questions, each paired with a corresponding fact from Freebase knowledge base. Each fact is a triple (subject, relation, object) and the answer to the question is always the object. The dataset is divided into training, validation, and test sets with 75,910, 10,845 and 21,687 questions respectively.\n",
    "\n",
    "2) RuBQ - is the first Russian knowledge base question answering (KBQA) dataset. It consists of 1,500 Russian questions of varying complexity, their English machine translations, SPARQL queries to Wikidata, reference answers, as well as a Wikidata sample of triples containing entities with Russian labels.\n",
    "\n",
    "3) Wikidata source for entity search\n",
    "\n",
    "Question answering (QA) addresses the task of returning a precise and concise answer to a natural language question posed by the user. QA received a great deal of attention both in academia and industry. Two main directions within QA are Open-Domain Question Answering (ODQA) and Knowledge Base Question Answering (KBQA). ODQA searches for the answer in a large collection of text documents; the process is often divided into two stages: 1) retrieval of poten- tially relevant paragraphs and 2) spotting an answer span within the paragraph (referred to as machine reading comprehension, MRC ). In contrast, KBQA uses a knowledge base as a source of answers.\n",
    "```"
   ]
  },
  {
   "cell_type": "markdown",
   "metadata": {
    "id": "qjTZ3LlVIeS_"
   },
   "source": [
    "# Imports"
   ]
  },
  {
   "cell_type": "code",
   "execution_count": null,
   "metadata": {
    "id": "-fTYR0F2J41p"
   },
   "outputs": [],
   "source": [
    "#!python3 -m spacy download en_core_web_lg"
   ]
  },
  {
   "cell_type": "code",
   "execution_count": null,
   "metadata": {
    "id": "V-VAemwz98X5"
   },
   "outputs": [],
   "source": [
    "import spacy\n",
    "\n",
    "\n",
    "import nltk\n",
    "import torch\n",
    "#import torchtext\n",
    "import numpy as np\n",
    "import pandas as pd\n",
    "import json\n",
    "import numpy as np\n",
    "import random\n",
    "import sys\n",
    "from tqdm import tqdm\n",
    "import re\n",
    "\n",
    "import torch\n",
    "import torch.nn as nn\n",
    "#from transformers import DistilBertModel, DistilBertTokenizer,BertModel,BertTokenizer\n",
    "from torch.utils.data import DataLoader\n",
    "\n",
    "from wikidataintegrator import wdi_core\n",
    "from wikidata.client import Client\n",
    "import wikidata\n",
    "import en_core_web_sm\n",
    "nlp = en_core_web_sm.load()\n",
    "\n",
    "from IPython.display import clear_output\n",
    "import matplotlib.pyplot as plt\n",
    "\n",
    "import wikidataintegrator\n",
    "from wikidataintegrator import wdi_core\n",
    "from wikidata.client import Client\n",
    "import wikidata\n",
    "import en_core_web_sm\n",
    "import nltk\n",
    "import numpy as np\n",
    "import json\n",
    "import multiprocessing as mp\n",
    "import pickle\n",
    "\n",
    "import wikidataintegrator\n",
    "from wikidataintegrator import wdi_core\n",
    "from wikidata.client import Client\n",
    "import wikidata\n",
    "sp_lg = spacy.load('en_core_web_lg')\n",
    "%matplotlib inline\n",
    "\n",
    "\n"
   ]
  },
  {
   "cell_type": "code",
   "execution_count": null,
   "metadata": {
    "colab": {
     "base_uri": "https://localhost:8080/"
    },
    "id": "4v_mB5pwtzQI",
    "outputId": "36314f1d-5d58-43d7-c3a7-6f06ccadc651"
   },
   "outputs": [
    {
     "name": "stdout",
     "output_type": "stream",
     "text": [
      "Drive already mounted at /content/drive; to attempt to forcibly remount, call drive.mount(\"/content/drive\", force_remount=True).\n"
     ]
    }
   ],
   "source": [
    "try:\n",
    "    import google.colab\n",
    "    IN_COLAB = True\n",
    "except ImportError:\n",
    "    IN_COLAB = False\n",
    "\n",
    "from pathlib import Path\n",
    "if IN_COLAB:\n",
    "    google.colab.drive.mount(\"/content/drive\")\n",
    "    \n",
    "    # Change this if you created the shortcut in a different location\n",
    "    AUX_DATA_ROOT = Path(\"/content/drive/MyDrive/NNLP/KBQA_project\")\n",
    "    \n",
    "    assert AUX_DATA_ROOT.is_dir(), \"Have you forgot to 'Add a shortcut to Drive'?\"\n",
    "    \n",
    "    import sys\n",
    "    sys.path.append(str(AUX_DATA_ROOT))\n",
    "else:\n",
    "    AUX_DATA_ROOT = Path(\".\")"
   ]
  },
  {
   "cell_type": "markdown",
   "metadata": {
    "id": "99JjzSJDHaXb"
   },
   "source": [
    "# Entity Detection\n",
    "We use NER to get entities, as it works faster than the rest of the solutions. Perhaps we are losing a little in quality, but we have made a choice in favor of time.\n",
    "\n",
    "Next, we use the obtained entities to find candidates from which answers will be searched later. Triplets consist of 3 entities: 1 is the entity derived from the questions, 2 is the relation, 3 is the entity that is the possible answer to the question.\n",
    "\n",
    "Next, we combine everything into a function that will pull entities out of the sentence and at the output we will get the emings of candidates for answers and their IDs"
   ]
  },
  {
   "cell_type": "markdown",
   "metadata": {
    "id": "Y3t7tkDmIYn0"
   },
   "source": [
    "Embeddings you can find here:\n",
    "\n",
    "https://drive.google.com/file/d/1p5FtjxD28XPlPVOBJuJ3wCAxXzZ120nm/view?usp=sharing\n",
    "\n",
    "https://drive.google.com/file/d/1ioFPghPCJFqxqByqyM1O9zmf1n3HZDG5/view?usp=sharing"
   ]
  },
  {
   "cell_type": "code",
   "execution_count": null,
   "metadata": {
    "id": "iWkDJ0B7HaXc"
   },
   "outputs": [],
   "source": [
    "PATH_TO_Q_EMBEDDINGS = \"Q_embeddings.json\" \n",
    "PATH_TO_P_EMBEDDINGS = \"P_embeddings.json\"\n",
    "\n",
    "q_embeddings = json.load(open(PATH_TO_Q_EMBEDDINGS))\n",
    "p_embeddings = json.load(open(PATH_TO_P_EMBEDDINGS))\n",
    "\n",
    "nlp = en_core_web_sm.load()\n",
    "client = wikidata.client.Client()\n",
    "\n",
    "def get_triplets_by_idd(idd):\n",
    "    '''\n",
    "    This function returns a list of triples for a given entity by its id\n",
    "        \n",
    "        input:  (str) wikidata id, e.x. 'Q2'\n",
    "        output: (list) list of lists of strings\n",
    "    '''\n",
    "    client = wikidata.client.Client()\n",
    "    entity = client.get(idd, load = True)\n",
    "    triples = []\n",
    "    for x in list(entity): \n",
    "\n",
    "        prop = client.get(x.id, load = True)\n",
    "        \n",
    "        try:\n",
    "            if type(entity[prop]) is wikidata.entity.Entity:\n",
    "                res = str(entity[prop].label).lower()\n",
    "                \n",
    "            else:\n",
    "                res = str(entity[prop]).lower()\n",
    "\n",
    "        except Exception as e:\n",
    "            try:\n",
    "                param = str(e).split(\"unsupported type: \")[1].replace(\"'\",'\"')\n",
    "                d = json.loads(param)\n",
    "                res = str(d[\"value\"][\"amount\"]).lower()\n",
    "\n",
    "            except:\n",
    "                res = (\"BAD_TYPE\")\n",
    "        \n",
    "        triples.append(res)\n",
    "    return triples\n",
    "\n",
    "\n",
    "def get_description_name(idd):\n",
    "\n",
    "    entity = client.get(idd, load=True)\n",
    "    name = \"None\"\n",
    "    description = \"None\"\n",
    "    print(entity)\n",
    "    try:\n",
    "        name = entity.data[\"labels\"][\"en\"][\"value\"]\n",
    "        description = entity.data[\"descriptions\"][\"en\"][\"value\"]\n",
    "    except:\n",
    "        pass\n",
    "    return name + \", \" + description"
   ]
  },
  {
   "cell_type": "code",
   "execution_count": null,
   "metadata": {
    "id": "34ItC5lyHaXc"
   },
   "outputs": [],
   "source": [
    "def spacy_large_ner(document):\n",
    "    return [ent.text.strip() for ent in sp_lg(document).ents]\n",
    "\n",
    "def find_triplets_from_sentence(text):\n",
    "\n",
    "    sp_lg = spacy.load('en_core_web_lg') \n",
    "    nouns = spacy_large_ner(text)\n",
    "    ids = []\n",
    "    for noun in nouns:\n",
    "        id = wdi_core.WDItemEngine.get_wd_search_results(noun)\n",
    "        ids += id[:1]\n",
    "\n",
    "    triplets = []\n",
    "    id_triplents = []\n",
    "    for id in ids:    \n",
    "        triplet = get_triplets_by_idd(id)\n",
    "        for answ in triplet:\n",
    "            \n",
    "            idd = wdi_core.WDItemEngine.get_wd_search_results(answ)\n",
    "            if len(idd)==0:\n",
    "                continue\n",
    "            try:\n",
    "                emb = q_embeddings[idd[0]]\n",
    "                triplets += [emb]\n",
    "                id_triplents += [idd[0]]\n",
    "            except:\n",
    "                continue\n",
    "    \n",
    "    return triplets, id_triplents"
   ]
  },
  {
   "cell_type": "code",
   "execution_count": null,
   "metadata": {
    "id": "5L6u1KFAHaXc"
   },
   "outputs": [],
   "source": [
    "df = pd.read_table(\"annotated_wd_data_test_answerable.txt\", header=None)\n",
    "pool = mp.Pool(100)\n",
    "questions = df[3]\n",
    "results = pool.map(find_triplets_from_sentence, [row for row in questions[:100]])\n",
    "\n",
    "candidates = []\n",
    "embeds = []\n",
    "\n",
    "for emb, cand in results:\n",
    "    candidates.append(cand)\n",
    "    embeds.append(embeds)\n",
    "\n",
    "df_new = pd.DataFrame()\n",
    "df_new[\"question\"] = questions[:100]\n",
    "df_new[\"answer\"] = df[2][:100]\n",
    "\n",
    "with open('test.pkl','wb') as f:\n",
    "    pickle.dump(embeds, f)\n",
    "    "
   ]
  },
  {
   "cell_type": "markdown",
   "metadata": {
    "id": "VLeINmBrrp-t"
   },
   "source": [
    "# Downloading the dataset\n"
   ]
  },
  {
   "cell_type": "code",
   "execution_count": null,
   "metadata": {
    "id": "JOuOPRjTeBc1"
   },
   "outputs": [],
   "source": [
    "import json\n",
    "# Train\n",
    "json1_file = open('/content/drive/MyDrive/NNLP/KBQA_project/SimpleQuestions1/annotated_wd_data_train1.json')\n",
    "json1_str = json1_file.read()\n",
    "json1_data = json.loads(json1_str)\n",
    "train_embeds=pd.DataFrame(json1_data)\n",
    "ques_tr=train_embeds.columns\n",
    "embeds_train=[]\n",
    "for i in range(train_embeds.shape[1]):\n",
    "  embeds_train.append(list(train_embeds.iloc[:,i]))\n",
    "ques_tr=pd.DataFrame([ques_tr,embeds_train]).T\n",
    "ques_tr.columns=['Question','Answer']\n",
    "\n",
    "#Val\n",
    "json1_file = open('/content/drive/MyDrive/NNLP/KBQA_project/SimpleQuestions1/annotated_wd_data_valid1.json')\n",
    "json1_str = json1_file.read()\n",
    "json1_data = json.loads(json1_str)\n",
    "val_embeds=pd.DataFrame(json1_data)\n",
    "ques_val=val_embeds.columns\n",
    "embeds_val=[]\n",
    "for i in range(val_embeds.shape[1]):\n",
    "  embeds_val.append(list(val_embeds.iloc[:,i]))\n",
    "ques_val=pd.DataFrame([ques_val,embeds_val]).T\n",
    "ques_val.columns=['Question','Answer']\n",
    "\n",
    "#Test\n",
    "json1_file = open('/content/drive/MyDrive/NNLP/KBQA_project/SimpleQuestions1/annotated_wd_data_test_answerable1.json')\n",
    "json1_str = json1_file.read()\n",
    "json1_data = json.loads(json1_str)\n",
    "test_embeds=pd.DataFrame(json1_data)\n",
    "ques_test=test_embeds.columns\n",
    "embeds_test=[]\n",
    "for i in range(test_embeds.shape[1]):\n",
    "  embeds_test.append(list(test_embeds.iloc[:,i]))\n",
    "ques_test=pd.DataFrame([ques_test,embeds_test]).T\n",
    "ques_test.columns=['Question','Answer']\n",
    "\n",
    "#Test candidates\n",
    "\n",
    "test_cand_df=pd.read_csv('/content/drive/MyDrive/NNLP/KBQA_project/test_frame.csv')\n",
    "embed_cand=pd.read_pickle('/content/drive/MyDrive/NNLP/KBQA_project/test.pkl')"
   ]
  },
  {
   "cell_type": "markdown",
   "metadata": {
    "id": "xEVhp3-zK8Tf"
   },
   "source": [
    "# Creating candidates for answers"
   ]
  },
  {
   "cell_type": "code",
   "execution_count": null,
   "metadata": {
    "id": "ozZbUrqa3P-t"
   },
   "outputs": [],
   "source": [
    "test_cand_df=pd.read_csv('/content/drive/MyDrive/NNLP/KBQA_project/test_frame.csv')\n",
    "embed_cand=pd.read_pickle('/content/drive/MyDrive/NNLP/KBQA_project/test.pkl')\n",
    "test_cand_df['candidates_embeds']=embed_cand\n",
    "\n",
    "new_cand=[]\n",
    "candidates=test_cand_df['candidates']\n",
    "for cand in candidates:\n",
    "    arr = cand.strip('][').split(', ')\n",
    "    new_arr = []\n",
    "    for el in arr:\n",
    "        new_el = el[1:-1]\n",
    "        new_arr.append(new_el)\n",
    "    new_cand.append(new_arr)\n",
    "test_cand_df['candidates']=new_cand\n"
   ]
  },
  {
   "cell_type": "code",
   "execution_count": null,
   "metadata": {
    "id": "832yNwV47OO6"
   },
   "outputs": [],
   "source": [
    "test_cand_df.columns=['Question', 'Answer', 'candidates', 'candidates_embeds']"
   ]
  },
  {
   "cell_type": "markdown",
   "metadata": {
    "id": "GxXs-TUYcJr2"
   },
   "source": [
    "# Preprocess Data"
   ]
  },
  {
   "cell_type": "code",
   "execution_count": null,
   "metadata": {
    "colab": {
     "base_uri": "https://localhost:8080/"
    },
    "id": "6S_oHfc_ZVoE",
    "outputId": "1bf4be8a-82f9-4a49-feb0-6a9daacae9f1"
   },
   "outputs": [
    {
     "name": "stderr",
     "output_type": "stream",
     "text": [
      "[nltk_data] Downloading package wordnet to /root/nltk_data...\n",
      "[nltk_data]   Package wordnet is already up-to-date!\n",
      "[nltk_data] Downloading package stopwords to /root/nltk_data...\n",
      "[nltk_data]   Package stopwords is already up-to-date!\n"
     ]
    }
   ],
   "source": [
    "import nltk\n",
    "from nltk.corpus import stopwords as nltk_stopwords\n",
    "\n",
    "nltk.download('wordnet')\n",
    "nltk.download('stopwords')\n",
    "def clean_text(string):\n",
    "    string=str(string)\n",
    "    delimiter='\\n'  \n",
    "    string = string.replace(delimiter, \"\")\n",
    "\n",
    "    return string    \n",
    "\n",
    "for i in range(ques_tr.shape[0]):\n",
    "  ques_tr.iloc[i,0]=clean_text(ques_tr.iloc[i,0])\n",
    "for i in range(ques_val.shape[0]):\n",
    "  ques_val.iloc[i,0]=clean_text(ques_val.iloc[i,0])\n",
    "for i in range(ques_test.shape[0]):\n",
    "  ques_test.iloc[i,0]=clean_text(ques_test.iloc[i,0])"
   ]
  },
  {
   "cell_type": "markdown",
   "metadata": {
    "id": "AzKXEfFkf3GP"
   },
   "source": [
    "# Defining the model"
   ]
  },
  {
   "cell_type": "code",
   "execution_count": null,
   "metadata": {
    "id": "EYeOoIhdf2LS"
   },
   "outputs": [],
   "source": [
    "device = torch.device(\"cuda:0\" if torch.cuda.is_available() else \"cpu\")\n",
    "from transformers import DistilBertModel, DistilBertTokenizer,BertModel,BertTokenizer\n",
    "\n",
    "tokenizer = DistilBertTokenizer.from_pretrained('distilbert-base-uncased')\n",
    "\n",
    "\n",
    "class EncoderBERT(nn.Module):\n",
    "    def __init__(self):\n",
    "        super(EncoderBERT,self).__init__()\n",
    "        self.encoder = DistilBertModel.from_pretrained('distilbert-base-uncased').to(device)\n",
    "\n",
    "        \n",
    "    def forward(self,questions):\n",
    "        q_ids = torch.tensor(questions)\n",
    "        last_hidden_states = self.encoder(q_ids)[0]\n",
    "        q_emb = torch.mean(last_hidden_states,dim=1)\n",
    "        return q_emb\n",
    "    "
   ]
  },
  {
   "cell_type": "markdown",
   "metadata": {
    "id": "bYlpb8NELCqi"
   },
   "source": [
    "# Bert_to_Graph is used to convert bert embeddins to graph embeddings of entities in wikidata"
   ]
  },
  {
   "cell_type": "code",
   "execution_count": null,
   "metadata": {
    "id": "AjCZf9vOLCHZ"
   },
   "outputs": [],
   "source": [
    "class Bert_to_Graph(nn.Module):\n",
    "    def __init__(self,dropout):\n",
    "        super(Bert_to_Graph,self).__init__()\n",
    "        self.dropout=dropout\n",
    "      \n",
    "        self.nn_layers = nn.ModuleList([nn.Linear(768,768),\n",
    "                    nn.BatchNorm1d(768),\n",
    "                    nn.LeakyReLU(),\n",
    "                    nn.Linear(768,200)])\n",
    "      \n",
    "                                \n",
    "    def block(self,in_features,out_features,dropout):\n",
    "          block_i=nn.Sequential(\n",
    "              nn.Linear(in_features,out_features),\n",
    "              nn.BatchNorm1d(out_features),\n",
    "              nn.Dropout(p=dropout),\n",
    "              nn.ReLU())\n",
    "          return block_i \n",
    "        \n",
    "       \n",
    "    def final_layer(self,in_features,out_features):\n",
    "          fin_layer=nn.Linear(in_features,out_features)\n",
    "          return fin_layer\n",
    "        \n",
    "    def forward(self,input):\n",
    "        x=input\n",
    "        for i in range(len(self.nn_layers)):\n",
    "          x=self.nn_layers[i](x)\n",
    "        return x\n"
   ]
  },
  {
   "cell_type": "markdown",
   "metadata": {
    "id": "YilKtjbcqIgE"
   },
   "source": [
    "# Define Datasets and Dataloaders"
   ]
  },
  {
   "cell_type": "code",
   "execution_count": null,
   "metadata": {
    "id": "o0rUmRt_Roi8"
   },
   "outputs": [],
   "source": [
    "def make_tensors(question,answer):\n",
    "  tensors=[]\n",
    "  for i in range(question.shape[0]):\n",
    "    questions_ids=torch.tensor(tokenizer.encode(question[i], max_length=200, add_special_tokens=True,pad_to_max_length=True))\n",
    "    embed_tensors=torch.tensor(answer[i])\n",
    "    tensors.append((questions_ids,embed_tensors))\n",
    "  return tensors\n",
    "  "
   ]
  },
  {
   "cell_type": "code",
   "execution_count": null,
   "metadata": {
    "id": "IabF25UN7kB9"
   },
   "outputs": [],
   "source": [
    "def make_tensors_test(question):\n",
    "  tensors=[]\n",
    "  for i in range(question.shape[0]):\n",
    "    questions_ids=torch.tensor(tokenizer.encode(question[i], max_length=200, add_special_tokens=True,pad_to_max_length=True))\n",
    "    tensors.append(questions_ids)\n",
    "  return tensors"
   ]
  },
  {
   "cell_type": "code",
   "execution_count": null,
   "metadata": {
    "colab": {
     "base_uri": "https://localhost:8080/"
    },
    "id": "Zw0JTdmIf2QN",
    "outputId": "803ec604-44bc-467a-9a8a-e8483cdab928"
   },
   "outputs": [
    {
     "name": "stderr",
     "output_type": "stream",
     "text": [
      "/usr/local/lib/python3.7/dist-packages/transformers/tokenization_utils_base.py:2291: FutureWarning: The `pad_to_max_length` argument is deprecated and will be removed in a future version, use `padding=True` or `padding='longest'` to pad to the longest sequence in the batch, or use `padding='max_length'` to pad to a max length. In this case, you can give a specific length with `max_length` (e.g. `max_length=45`) or leave max_length to None to pad to the maximal input size of the model (e.g. 512 for Bert).\n",
      "  FutureWarning,\n"
     ]
    }
   ],
   "source": [
    "train_tensors=make_tensors(ques_tr['Question'],ques_tr['Answer'])\n",
    "val_tensors=make_tensors(ques_val['Question'],ques_val['Answer'])\n",
    "test_tensors=make_tensors_test(test_cand_df['Question'])\n",
    "\n",
    "train_loader=DataLoader(train_tensors,batch_size=128, shuffle=True)\n",
    "val_loader=DataLoader(val_tensors,batch_size=1024, shuffle=True)\n",
    "test_loader=DataLoader(test_tensors,batch_size=1, shuffle=False)"
   ]
  },
  {
   "cell_type": "markdown",
   "metadata": {
    "id": "oeLdEClsqM_Y"
   },
   "source": [
    "# Define models"
   ]
  },
  {
   "cell_type": "code",
   "execution_count": null,
   "metadata": {
    "colab": {
     "base_uri": "https://localhost:8080/"
    },
    "id": "hiVI9F4XqPmB",
    "outputId": "9ab0adc7-dca3-4418-f8f6-3bdad719723e"
   },
   "outputs": [
    {
     "name": "stderr",
     "output_type": "stream",
     "text": [
      "Some weights of the model checkpoint at distilbert-base-uncased were not used when initializing DistilBertModel: ['vocab_layer_norm.bias', 'vocab_projector.bias', 'vocab_layer_norm.weight', 'vocab_projector.weight', 'vocab_transform.bias', 'vocab_transform.weight']\n",
      "- This IS expected if you are initializing DistilBertModel from the checkpoint of a model trained on another task or with another architecture (e.g. initializing a BertForSequenceClassification model from a BertForPreTraining model).\n",
      "- This IS NOT expected if you are initializing DistilBertModel from the checkpoint of a model that you expect to be exactly identical (initializing a BertForSequenceClassification model from a BertForSequenceClassification model).\n"
     ]
    }
   ],
   "source": [
    "torch.cuda.empty_cache()\n",
    "encoder = EncoderBERT().to(device)\n",
    "bert2graph=Bert_to_Graph(0.3).to(device)\n",
    "\n",
    "\n",
    "ADAM=True\n",
    "if ADAM==True:\n",
    "  optimizer1 = torch.optim.Adam(bert2graph.parameters(),lr=0.001)\n",
    "  optimizer2 = torch.optim.Adam(encoder.parameters(),lr=0.0001)\n",
    "else:\n",
    "  optimizer1=torch.optim.RAdam(bert2graph.parameters(), lr=0.0001, betas=(0.9, 0.999), eps=1e-08, weight_decay=1e-5)\n",
    "  optimizer2=torch.optim.RAdam(encoder.parameters(), lr=0.0001, betas=(0.9, 0.999), eps=1e-08, weight_decay=1e-5)\n",
    "\n",
    "scheduler = torch.optim.lr_scheduler.StepLR(optimizer1, step_size=6, gamma=0.1)"
   ]
  },
  {
   "cell_type": "markdown",
   "metadata": {
    "id": "aFHcw-q0qYXG"
   },
   "source": [
    "# Train the model\n"
   ]
  },
  {
   "cell_type": "code",
   "execution_count": null,
   "metadata": {
    "colab": {
     "base_uri": "https://localhost:8080/",
     "height": 40
    },
    "id": "WHyqPx5tonih",
    "outputId": "a0225369-3df6-45f8-f819-55e96a1038b3"
   },
   "outputs": [
    {
     "name": "stdout",
     "output_type": "stream",
     "text": [
      "10-th EPOCH HAS FINISHED\n"
     ]
    }
   ],
   "source": [
    "from tqdm.notebook import tqdm_notebook\n",
    "loss_train=[]\n",
    "loss_test=[]\n",
    "similarity=[]\n",
    "\n",
    "num_epoch=20\n",
    "iterator = 0\n",
    "\n",
    "for epoch in range(num_epoch):\n",
    "    \n",
    "    for X, y in tqdm_notebook(train_loader):\n",
    "        bert2graph.train()\n",
    "        X_device=X.to(device)\n",
    "        y_device=y.to(device)\n",
    "        \n",
    "        y_pred = bert2graph(encoder(X_device))\n",
    "        loss = nn.MSELoss()(y_device,y_pred)\n",
    "        loss_train.append(loss.item())\n",
    "        loss.backward()\n",
    "        optimizer1.step()\n",
    "        optimizer1.zero_grad()\n",
    "        if iterator > 100:\n",
    "          optimizer2.step()\n",
    "        optimizer2.zero_grad()\n",
    "        \n",
    "        if iterator % 50 == 0:\n",
    "            bert2graph.eval()\n",
    "            with torch.no_grad():\n",
    "                for X, y in val_loader:\n",
    "                    X_device=X.to(device)\n",
    "                    y_device=y.to(device)\n",
    "                    y_pred = bert2graph(encoder(X_device))\n",
    "                    loss = nn.MSELoss()(y_device,y_pred)\n",
    "                    loss_test.append(loss.item())\n",
    "                    similarity.append(torch.mean(torch.cosine_similarity(y_device,y_pred)).item())\n",
    "            plt.semilogy(loss_train,color='green')\n",
    "            plt.grid()\n",
    "            plt.title(\"train_loss\")\n",
    "            plt.show()\n",
    "            \n",
    "            plt.semilogy(loss_test,color='green')\n",
    "            plt.grid()\n",
    "            plt.title(\"test_loss\")\n",
    "            plt.show()\n",
    "\n",
    "            plt.plot(similarity,color='green')\n",
    "            plt.grid()\n",
    "            plt.title(\"similarity\")\n",
    "            plt.show()\n",
    "        clear_output(wait=True)\n",
    "        iterator += 1\n",
    "    scheduler.step()\n",
    "    print(f'{epoch+1}-th EPOCH HAS FINISHED')"
   ]
  },
  {
   "cell_type": "code",
   "execution_count": null,
   "metadata": {
    "colab": {
     "base_uri": "https://localhost:8080/",
     "height": 554
    },
    "id": "MzzI7rQxPbnL",
    "outputId": "dc1dc3bc-f4d1-48a0-f080-de00433e886b"
   },
   "outputs": [
    {
     "data": {
      "image/png": "[encoded data removed]",
      "text/plain": [
       "<Figure size 960x640 with 1 Axes>"
      ]
     },
     "metadata": {
      "needs_background": "light"
     },
     "output_type": "display_data"
    }
   ],
   "source": [
    "from matplotlib.pyplot import figure\n",
    "\n",
    "figure(figsize=(12, 8), dpi=80)\n",
    "plt.plot(similarity,color='green')\n",
    "plt.grid()\n",
    "plt.title(\"Cosine Similarity\",fontsize=16)\n",
    "plt.show()"
   ]
  },
  {
   "cell_type": "code",
   "execution_count": null,
   "metadata": {
    "id": "R-7ibPFPonzu"
   },
   "outputs": [],
   "source": [
    "torch.save(bert2graph.state_dict(), f'bert2graph_{num_epoch}.ckpt')\n",
    "torch.save(encoder.state_dict(), f'encoder_{num_epoch}.ckpt')\n"
   ]
  },
  {
   "cell_type": "markdown",
   "metadata": {
    "id": "Lz2IQ4K437nP"
   },
   "source": [
    "# Test inference"
   ]
  },
  {
   "cell_type": "code",
   "execution_count": null,
   "metadata": {
    "id": "jIdSHEKA4kku"
   },
   "outputs": [],
   "source": [
    "new_cand=[]\n",
    "candidates=test_cand_df['candidates']\n",
    "for cand in candidates:\n",
    "    arr = cand.strip('][').split(', ')\n",
    "    new_arr = []\n",
    "    for el in arr:\n",
    "        new_el = el[1:-1]\n",
    "        new_arr.append(new_el)\n",
    "    new_cand.append(new_arr)\n",
    "test_cand_df['candidates']=len(new_cand)"
   ]
  },
  {
   "cell_type": "markdown",
   "metadata": {
    "id": "whNKPs1xLMMo"
   },
   "source": [
    "# Checkpoints are in the checpoints folder:\n",
    "https://drive.google.com/drive/u/0/folders/1qLwfoN_-dnox5B8zY5q33dhUA0gGRV7O"
   ]
  },
  {
   "cell_type": "code",
   "execution_count": null,
   "metadata": {
    "id": "nCDRiEHCRoOu"
   },
   "outputs": [],
   "source": [
    "bert2graph=Bert_to_Graph(0.3)\n",
    "\n",
    "path_b2g=''\n",
    "bert2graph.load_state_dict(torch.load('/content/drive/MyDrive/NNLP/KBQA_project/checkpoints/bert2graph_50.ckpt'))\n",
    "bert2graph.to(device)\n",
    "bert2graph.eval()\n",
    "\n",
    "encoder=EncoderBERT().to(device)\n",
    "\n",
    "path_enc=''\n",
    "encoder.load_state_dict(torch.load('/content/drive/MyDrive/NNLP/KBQA_project/checkpoints/encoder50.ckpt'))\n",
    "encoder.to(device)\n",
    "encoder.eval()\n",
    "\n",
    "                    "
   ]
  },
  {
   "cell_type": "code",
   "execution_count": null,
   "metadata": {
    "id": "48Tgn3Hs4Rca"
   },
   "outputs": [],
   "source": [
    "test_answers=[]\n",
    "with torch.no_grad():\n",
    "                for X, y in test_loader:\n",
    "                    X_device=X.to(device)\n",
    "                    y_device=y.to(device)\n",
    "                    y_pred = bert2graph(encoder(X_device))\n",
    "                    test_answers.append(y_pred)"
   ]
  },
  {
   "cell_type": "code",
   "execution_count": null,
   "metadata": {
    "id": "RQbvHxnR36TE"
   },
   "outputs": [],
   "source": [
    "test_answers=[]\n",
    "best_candidate_id=[]\n",
    "i=0\n",
    "with torch.no_grad():\n",
    "  for X in test_loader:\n",
    "      X_device=X.to(device)\n",
    "\n",
    "      question_pred = bert2graph(encoder(X_device))\n",
    "      test_answers.append(question_pred)\n",
    "      cosines=[]\n",
    "      for j in range(0,len(test_cand_df['candidates_embeds'][i])):\n",
    "        print()\n",
    "        if test_cand_df['candidates_embeds'][i][j]=='nan':\n",
    "          pass\n",
    "        else:\n",
    "          cand_embed_j=torch.tensor(test_cand_df['candidates_embeds'][i][j])\n",
    "          cosines.append(torch.cosine_similarity(cand_embed_j ,question_pred.cpu()))\n",
    "      if cosines == []:\n",
    "        best_candidate_id.append('nan')\n",
    "      else:\n",
    "\n",
    "\n",
    "        best_candidate=np.argmax(cosines)\n",
    "        best_candidate_id.append(test_cand_df['candidates'][i][best_candidate])\n",
    "      i+=1\n"
   ]
  },
  {
   "cell_type": "code",
   "execution_count": null,
   "metadata": {
    "colab": {
     "base_uri": "https://localhost:8080/"
    },
    "id": "ovAXF0T95i9t",
    "outputId": "8c7bfdc6-41b7-4f1a-a0b5-0e2bb6dd2671"
   },
   "outputs": [
    {
     "data": {
      "text/plain": [
       "15"
      ]
     },
     "execution_count": 91,
     "metadata": {},
     "output_type": "execute_result"
    }
   ],
   "source": [
    "(test_cand_df['Answer']==best_candidate_id).sum()\n"
   ]
  },
  {
   "cell_type": "code",
   "execution_count": null,
   "metadata": {
    "id": "HxqEgs1L_k51"
   },
   "outputs": [],
   "source": [
    "def get_description_name(idd):\n",
    "    client = wikidata.client.Client()\n",
    "    entity = client.get(idd, load=True)\n",
    "    name = \"None\"\n",
    "    description = \"None\"\n",
    "    print(entity)\n",
    "    try:\n",
    "        name = entity.data[\"labels\"][\"en\"][\"value\"]\n",
    "        description = entity.data[\"descriptions\"][\"en\"][\"value\"]\n",
    "    except:\n",
    "        pass\n",
    "    return name + \", \" + description"
   ]
  },
  {
   "cell_type": "code",
   "execution_count": null,
   "metadata": {
    "colab": {
     "base_uri": "https://localhost:8080/"
    },
    "id": "leSWdvbD_2Hg",
    "outputId": "ab0fba37-a66a-4505-b1e5-647f026cfef0"
   },
   "outputs": [
    {
     "name": "stdout",
     "output_type": "stream",
     "text": [
      "Question:\n",
      "what's the name of an Australian rock and roll\n",
      "Answer:\n",
      "<wikidata.entity.Entity Q185278 'News Corporation'>\n",
      "News Corporation, defunct media corporation (1979–2013)\n",
      "Question:\n",
      "what is the category of the celestial object 1241 dysona\n",
      "Answer:\n",
      "<wikidata.entity.Entity Q577 'year'>\n",
      "year, estimated period of time for the Earth's orbit around the Sun and observed at a fixed geographic point (averaging 365.24 days); base later modified to define or adjust various calendars\n",
      "Question:\n",
      "What is a type of gameplay available to gamers playing custom robo v2\n",
      "Answer:\n",
      "<wikidata.entity.Entity nan>\n",
      "None, None\n",
      "Question:\n",
      "What's an example of a romance film\n",
      "Answer:\n",
      "<wikidata.entity.Entity nan>\n",
      "None, None\n",
      "Question:\n",
      "where was shigeyasu suzuki's place of birth\n",
      "Answer:\n",
      "<wikidata.entity.Entity nan>\n",
      "None, None\n",
      "Question:\n",
      "which nationality is yonatan rozen\n",
      "Answer:\n",
      "<wikidata.entity.Entity Q801 'Israel'>\n",
      "Israel, sovereign state in the Middle East\n",
      "Question:\n",
      "which indian city was fazil born in\n",
      "Answer:\n",
      "<wikidata.entity.Entity Q4167410 'Wikimedia disambiguation page'>\n",
      "Wikimedia disambiguation page, Wikimedia project page\n",
      "Question:\n",
      "where was paolo de la haza born?\n",
      "Answer:\n",
      "<wikidata.entity.Entity Q15731774 'Paolo'>\n",
      "Paolo, male given name\n",
      "Question:\n",
      "what gender is daniela cristofori \n",
      "Answer:\n",
      "<wikidata.entity.Entity Q43445 'female organism'>\n",
      "female organism, female animal or plant\n",
      "Question:\n",
      "in which country was overnight delivery filmed in\n",
      "Answer:\n",
      "<wikidata.entity.Entity nan>\n",
      "None, None\n",
      "Question:\n",
      "what is the second level division of the division crixás do tocantins\n",
      "Answer:\n",
      "<wikidata.entity.Entity Q155 'Brazil'>\n",
      "Brazil, country in South America\n",
      "Question:\n",
      "Which film was directed by ian iqbal rashid\n",
      "Answer:\n",
      "<wikidata.entity.Entity Q145 'United Kingdom'>\n",
      "United Kingdom, country in Western Europe\n",
      "Question:\n",
      "in what county is monango found\n",
      "Answer:\n",
      "<wikidata.entity.Entity nan>\n",
      "None, None\n",
      "Question:\n",
      "who recorded rca records\n",
      "Answer:\n",
      "<wikidata.entity.Entity Q71004 'Emile Berliner'>\n",
      "Emile Berliner, German-born American inventor of the phonograph\n",
      "Question:\n",
      "who is the artist of breathing your love?\n",
      "Answer:\n",
      "<wikidata.entity.Entity nan>\n",
      "None, None\n",
      "Question:\n",
      "What is a gampelay mode found in the game allegiance\n",
      "Answer:\n",
      "<wikidata.entity.Entity nan>\n",
      "None, None\n",
      "Question:\n",
      "What type of film is raghuvinte swantham raziya\n",
      "Answer:\n",
      "<wikidata.entity.Entity nan>\n",
      "None, None\n",
      "Question:\n",
      "Which films has leonid gaidai written\n",
      "Answer:\n",
      "<wikidata.entity.Entity Q312480 'Leonid Gaidai'>\n",
      "Leonid Gaidai, Soviet film director (1923-1993)\n",
      "Question:\n",
      "What is an organization that j. a. folger founded?\n",
      "Answer:\n",
      "<wikidata.entity.Entity Q49149 'Nantucket'>\n",
      "Nantucket, island of Massachusetts, United States\n",
      "Question:\n",
      "What is shinji mori's gender?\n",
      "Answer:\n",
      "<wikidata.entity.Entity nan>\n",
      "None, None\n"
     ]
    }
   ],
   "source": [
    "for i in range(20, 40):\n",
    "  print('Question:')\n",
    "  print(test_cand_df['Question'][i])\n",
    "  print('Answer:')\n",
    "  print(get_description_name(best_candidate_id[i]))"
   ]
  },
  {
   "cell_type": "code",
   "execution_count": null,
   "metadata": {
    "colab": {
     "base_uri": "https://localhost:8080/"
    },
    "id": "_FjPqfoF-Fnt",
    "outputId": "d81bfe80-616c-487d-f399-e393d4447c17"
   },
   "outputs": [
    {
     "name": "stdout",
     "output_type": "stream",
     "text": [
      "Test accuracy is 26.785714285714285%\n"
     ]
    }
   ],
   "source": [
    "s=0\n",
    "for i in range(len(best_candidate_id)):\n",
    "  if best_candidate_id[i]=='nan':\n",
    "    s+=1\n",
    "\n",
    "\n",
    "print(f'Test accuracy is { 15/(100-44)*100}%')"
   ]
  },
  {
   "cell_type": "code",
   "execution_count": null,
   "metadata": {
    "id": "oYW9k4LD5tXD"
   },
   "outputs": [],
   "source": [
    "new_cand=[]\n",
    "candidates=test_cand_df['candidates']\n",
    "for cand in candidates:\n",
    "    arr = cand.strip('][').split(', ')\n",
    "    new_arr = []\n",
    "    for el in arr:\n",
    "        new_el = el[1:-1]\n",
    "        new_arr.append(new_el)\n",
    "    new_cand.append(new_arr)\n",
    "test_cand_df['candidates']=len(new_cand)"
   ]
  },
  {
   "cell_type": "code",
   "execution_count": null,
   "metadata": {
    "id": "RgpJ_cDYLyfU"
   },
   "outputs": [],
   "source": []
  }
 ],
 "metadata": {
  "accelerator": "GPU",
  "colab": {
   "collapsed_sections": [],
   "machine_shape": "hm",
   "name": "KBQA_notebook_3.ipynb",
   "provenance": [],
   "toc_visible": true
  },
  "kernelspec": {
   "display_name": "Python 3 (ipykernel)",
   "language": "python",
   "name": "python3"
  },
  "language_info": {
   "codemirror_mode": {
    "name": "ipython",
    "version": 3
   },
   "file_extension": ".py",
   "mimetype": "text/x-python",
   "name": "python",
   "nbconvert_exporter": "python",
   "pygments_lexer": "ipython3",
   "version": "3.9.12"
  }
 },
 "nbformat": 4,
 "nbformat_minor": 1
}
